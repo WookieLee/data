{
  "nbformat": 4,
  "nbformat_minor": 0,
  "metadata": {
    "colab": {
      "name": "convert_code.ipynb",
      "provenance": [],
      "authorship_tag": "ABX9TyNYgcAyxKZh7rx5yMaTRE0F",
      "include_colab_link": true
    },
    "kernelspec": {
      "name": "python3",
      "display_name": "Python 3"
    },
    "language_info": {
      "name": "python"
    }
  },
  "cells": [
    {
      "cell_type": "markdown",
      "metadata": {
        "id": "view-in-github",
        "colab_type": "text"
      },
      "source": [
        "<a href=\"https://colab.research.google.com/github/WookieLee/data/blob/main/convert_code.ipynb\" target=\"_parent\"><img src=\"https://colab.research.google.com/assets/colab-badge.svg\" alt=\"Open In Colab\"/></a>"
      ]
    },
    {
      "cell_type": "code",
      "metadata": {
        "id": "pHzAZgVdp37H"
      },
      "source": [
        "def convert_code(df):\n",
        " import pandas as pd\n",
        " import numpy as np\n",
        "\n",
        " code = pd.read_csv('https://drive.google.com/uc?export=download&id=1lfba4GKf4ETI9EP8vl2NTwNF9VaHJYxL', encoding='utf-8')\n",
        " \n",
        " code=code[code.읍면동명.isnull()]\n",
        " code=code[code.동리명.notnull()]\n",
        " code['시군구명'].replace(np.nan, 0, inplace=True) \n",
        " code['TYPE'] = np.where(code['시군구명'] == 0, '시도', '시군구')\n",
        " code['CODE'] = np.where(code['TYPE']=='시도', code.행정동코드.astype(str).str[:2].astype(int), code.행정동코드.astype(str).str[:5].astype(int))\n",
        " code['시군구명'].replace(0, np.nan, inplace=True) \n",
        " code[\"FULL_NM\"] = code[\"시도명\"] + \" \" + code[\"시군구명\"]\n",
        " code[\"FULL_NM\"]=code[\"FULL_NM\"].str.rstrip()\n",
        " code['FULL_NM'].fillna(code['시도명'], inplace=True)\n",
        " \n",
        " fullnm = pd.read_csv('https://drive.google.com/uc?export=download&id=1K3GmKvDz0qlW3IbDitFsnfsQYCUiQZkz', encoding='utf-8')\n",
        " \n",
        " df['C1']=df['C1'].astype(int)\n",
        " fullnm['C1']=fullnm['C1'].astype(int)\n",
        " df_key = df.merge(fullnm, on='C1')\n",
        " \n",
        " df_code=df_key.join(code.set_index('FULL_NM')['CODE'], on='FULL_NM')\n",
        " df_code=df_code[df_code.CODE.notnull()]\n",
        " df_code['CODE'] = df_code['CODE'].astype(int)\n",
        " return df_code"
      ],
      "execution_count": null,
      "outputs": []
    }
  ]
}